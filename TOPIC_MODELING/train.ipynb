{
 "cells": [
  {
   "cell_type": "markdown",
   "metadata": {},
   "source": [
    "## Train:\n",
    "### El siguiente proceso desarrolla el algoritmo de Topic Modeling."
   ]
  },
  {
   "cell_type": "code",
   "execution_count": 1,
   "metadata": {},
   "outputs": [
    {
     "name": "stderr",
     "output_type": "stream",
     "text": [
      "[nltk_data] Downloading package stopwords to\n",
      "[nltk_data]     C:\\Users\\jlreyes\\AppData\\Roaming\\nltk_data...\n",
      "[nltk_data]   Package stopwords is already up-to-date!\n"
     ]
    }
   ],
   "source": [
    "import re as re\n",
    "import numpy as np\n",
    "import pandas as pd\n",
    "from pprint import pprint\n",
    "import gensim\n",
    "import gensim.corpora as corpora\n",
    "from gensim.utils import simple_preprocess\n",
    "from gensim.models import CoherenceModel\n",
    "import nltk\n",
    "nltk.download('stopwords')\n",
    "from nltk.corpus import stopwords\n",
    "import spacy\n",
    "import pyLDAvis\n",
    "import pyLDAvis.gensim\n",
    "import matplotlib.pyplot as plt\n",
    "import pickle\n",
    "%matplotlib inline"
   ]
  },
  {
   "cell_type": "code",
   "execution_count": 2,
   "metadata": {},
   "outputs": [],
   "source": [
    "with open(r\"./data/interim/tokenize_corpus.pkl\", \"rb\") as input_file:\n",
    "    corpus = pickle.load(input_file)\n",
    "with open(r\"./data/interim/tokenize_id2word.pkl\", \"rb\") as input_file:\n",
    "    id2word = pickle.load(input_file)"
   ]
  },
  {
   "cell_type": "code",
   "execution_count": 3,
   "metadata": {},
   "outputs": [],
   "source": [
    "lda_model = gensim.models.ldamodel.LdaModel(corpus=corpus,\n",
    "                                           id2word=id2word,\n",
    "                                           num_topics=20, \n",
    "                                           random_state=100,\n",
    "                                           update_every=1,\n",
    "                                           chunksize=100,\n",
    "                                           passes=10,\n",
    "                                           alpha='auto',\n",
    "                                           per_word_topics=True)"
   ]
  },
  {
   "cell_type": "code",
   "execution_count": 4,
   "metadata": {},
   "outputs": [
    {
     "name": "stdout",
     "output_type": "stream",
     "text": [
      "[(0,\n",
      "  '0.032*\"write\" + 0.030*\"line\" + 0.023*\"would\" + 0.018*\"know\" + 0.018*\"be\" + '\n",
      "  '0.018*\"organization\" + 0.018*\"go\" + 0.016*\"get\" + 0.013*\"think\" + '\n",
      "  '0.013*\"host\"'),\n",
      " (1,\n",
      "  '0.034*\"power\" + 0.023*\"model\" + 0.023*\"design\" + 0.022*\"test\" + '\n",
      "  '0.022*\"speed\" + 0.020*\"build\" + 0.017*\"input\" + 0.017*\"wire\" + '\n",
      "  '0.017*\"device\" + 0.016*\"replace\"'),\n",
      " (2,\n",
      "  '0.088*\"space\" + 0.028*\"launch\" + 0.026*\"earth\" + 0.024*\"project\" + '\n",
      "  '0.023*\"review\" + 0.023*\"orbit\" + 0.019*\"development\" + 0.019*\"mission\" + '\n",
      "  '0.018*\"satellite\" + 0.017*\"moon\"'),\n",
      " (3,\n",
      "  '0.188*\"drive\" + 0.122*\"car\" + 0.033*\"engine\" + 0.031*\"family\" + '\n",
      "  '0.025*\"price\" + 0.025*\"buy\" + 0.024*\"pull\" + 0.023*\"dealer\" + 0.021*\"trust\" '\n",
      "  '+ 0.019*\"processor\"'),\n",
      " (4,\n",
      "  '0.077*\"encryption\" + 0.073*\"public\" + 0.067*\"security\" + 0.051*\"mouse\" + '\n",
      "  '0.044*\"clipper\" + 0.039*\"private\" + 0.039*\"agency\" + 0.035*\"voice\" + '\n",
      "  '0.030*\"tax\" + 0.030*\"trial\"'),\n",
      " (5,\n",
      "  '0.152*\"player\" + 0.106*\"slow\" + 0.065*\"headache\" + 0.050*\"baseball\" + '\n",
      "  '0.045*\"stupid\" + 0.042*\"scripture\" + 0.039*\"homosexual\" + 0.022*\"co\" + '\n",
      "  '0.019*\"draft\" + 0.019*\"sheet\"'),\n",
      " (6,\n",
      "  '0.142*\"team\" + 0.124*\"game\" + 0.099*\"play\" + 0.039*\"goal\" + 0.037*\"score\" + '\n",
      "  '0.034*\"notice\" + 0.024*\"run\" + 0.022*\"night\" + 0.021*\"lose\" + 0.016*\"ice\"'),\n",
      " (7,\n",
      "  '0.101*\"file\" + 0.097*\"program\" + 0.043*\"entry\" + 0.042*\"version\" + '\n",
      "  '0.042*\"image\" + 0.030*\"code\" + 0.023*\"format\" + 0.020*\"object\" + '\n",
      "  '0.020*\"source\" + 0.018*\"recommend\"'),\n",
      " (8,\n",
      "  '0.047*\"year\" + 0.020*\"last\" + 0.018*\"talk\" + 0.017*\"good\" + 0.014*\"new\" + '\n",
      "  '0.014*\"high\" + 0.013*\"win\" + 0.013*\"report\" + 0.012*\"pay\" + 0.012*\"money\"'),\n",
      " (9,\n",
      "  '0.744*\"ax\" + 0.025*\"cpu\" + 0.021*\"server\" + 0.015*\"controller\" + '\n",
      "  '0.014*\"motif\" + 0.011*\"printer\" + 0.011*\"doctor\" + 0.009*\"mb\" + '\n",
      "  '0.008*\"cycle\" + 0.006*\"somehow\"'),\n",
      " (10,\n",
      "  '0.041*\"system\" + 0.035*\"use\" + 0.022*\"mail\" + 0.020*\"information\" + '\n",
      "  '0.019*\"include\" + 0.019*\"send\" + 0.018*\"window\" + 0.018*\"card\" + '\n",
      "  '0.017*\"computer\" + 0.016*\"also\"'),\n",
      " (11,\n",
      "  '0.201*\"key\" + 0.104*\"chip\" + 0.063*\"phone\" + 0.055*\"bit\" + 0.047*\"color\" + '\n",
      "  '0.040*\"master\" + 0.035*\"algorithm\" + 0.032*\"secure\" + 0.029*\"block\" + '\n",
      "  '0.024*\"secret\"'),\n",
      " (12,\n",
      "  '0.025*\"people\" + 0.018*\"say\" + 0.014*\"may\" + 0.012*\"believe\" + '\n",
      "  '0.012*\"reason\" + 0.011*\"would\" + 0.011*\"evidence\" + 0.010*\"make\" + '\n",
      "  '0.010*\"many\" + 0.009*\"mean\"'),\n",
      " (13,\n",
      "  '0.133*\"government\" + 0.054*\"country\" + 0.037*\"crime\" + 0.036*\"serious\" + '\n",
      "  '0.033*\"military\" + 0.027*\"policy\" + 0.025*\"criminal\" + 0.023*\"political\" + '\n",
      "  '0.022*\"public\" + 0.019*\"nation\"'),\n",
      " (14,\n",
      "  '0.146*\"speak\" + 0.110*\"season\" + 0.079*\"trade\" + 0.061*\"pen\" + '\n",
      "  '0.059*\"owner\" + 0.034*\"decent\" + 0.024*\"penguin\" + 0.022*\"captain\" + '\n",
      "  '0.021*\"mid\" + 0.020*\"coverage\"'),\n",
      " (15,\n",
      "  '0.063*\"kill\" + 0.033*\"attack\" + 0.032*\"war\" + 0.031*\"death\" + '\n",
      "  '0.031*\"soldier\" + 0.028*\"murder\" + 0.026*\"jewish\" + 0.025*\"child\" + '\n",
      "  '0.022*\"land\" + 0.022*\"village\"'),\n",
      " (16,\n",
      "  '0.074*\"israeli\" + 0.060*\"brain\" + 0.049*\"meet\" + 0.037*\"hot\" + 0.031*\"cool\" '\n",
      "  '+ 0.028*\"cd\" + 0.027*\"arab\" + 0.027*\"water\" + 0.025*\"dog\" + 0.022*\"oil\"'),\n",
      " (17,\n",
      "  '0.191*\"book\" + 0.125*\"com\" + 0.111*\"science\" + 0.046*\"value\" + '\n",
      "  '0.038*\"sorry\" + 0.030*\"blind\" + 0.027*\"observation\" + 0.023*\"export\" + '\n",
      "  '0.013*\"crypto\" + 0.010*\"experiment\"'),\n",
      " (18,\n",
      "  '0.081*\"faith\" + 0.063*\"physical\" + 0.059*\"accept\" + 0.054*\"god\" + '\n",
      "  '0.041*\"truth\" + 0.034*\"church\" + 0.032*\"lie\" + 0.031*\"love\" + '\n",
      "  '0.030*\"christian\" + 0.028*\"logic\"'),\n",
      " (19,\n",
      "  '0.109*\"die\" + 0.079*\"young\" + 0.071*\"reality\" + 0.050*\"wing\" + '\n",
      "  '0.036*\"atheism\" + 0.031*\"star\" + 0.027*\"ethnic\" + 0.027*\"minority\" + '\n",
      "  '0.026*\"planet\" + 0.025*\"constitution\"')]\n"
     ]
    }
   ],
   "source": [
    "# Print the Keyword in the 10 topics\n",
    "pprint(lda_model.print_topics())"
   ]
  },
  {
   "cell_type": "code",
   "execution_count": 5,
   "metadata": {},
   "outputs": [],
   "source": [
    "with open(r\"./data/processed/tokenize_corpus.pkl\", \"wb\") as output_file:\n",
    "    pickle.dump(corpus, output_file)\n",
    "with open(r\"./data/processed/tokenize_id2word.pkl\", \"wb\") as output_file:\n",
    "    pickle.dump(id2word, output_file)\n",
    "with open(r\"./models/lda_model.pkl\", \"wb\") as output_file:\n",
    "    pickle.dump(lda_model, output_file)"
   ]
  }
 ],
 "metadata": {
  "kernelspec": {
   "display_name": "Python 3",
   "language": "python",
   "name": "python3"
  },
  "language_info": {
   "codemirror_mode": {
    "name": "ipython",
    "version": 3
   },
   "file_extension": ".py",
   "mimetype": "text/x-python",
   "name": "python",
   "nbconvert_exporter": "python",
   "pygments_lexer": "ipython3",
   "version": "3.8.3"
  }
 },
 "nbformat": 4,
 "nbformat_minor": 4
}
